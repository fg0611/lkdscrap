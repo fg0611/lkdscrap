{
 "cells": [
  {
   "cell_type": "code",
   "execution_count": 3,
   "metadata": {},
   "outputs": [],
   "source": [
    "import pandas as pd"
   ]
  },
  {
   "cell_type": "code",
   "execution_count": 4,
   "metadata": {},
   "outputs": [
    {
     "data": {
      "text/html": [
       "<div>\n",
       "<style scoped>\n",
       "    .dataframe tbody tr th:only-of-type {\n",
       "        vertical-align: middle;\n",
       "    }\n",
       "\n",
       "    .dataframe tbody tr th {\n",
       "        vertical-align: top;\n",
       "    }\n",
       "\n",
       "    .dataframe thead th {\n",
       "        text-align: right;\n",
       "    }\n",
       "</style>\n",
       "<table border=\"1\" class=\"dataframe\">\n",
       "  <thead>\n",
       "    <tr style=\"text-align: right;\">\n",
       "      <th></th>\n",
       "      <th>title</th>\n",
       "      <th>company</th>\n",
       "      <th>location</th>\n",
       "      <th>published</th>\n",
       "      <th>applicants</th>\n",
       "      <th>url</th>\n",
       "      <th>description</th>\n",
       "    </tr>\n",
       "  </thead>\n",
       "  <tbody>\n",
       "    <tr>\n",
       "      <th>0</th>\n",
       "      <td>Front-end Developer</td>\n",
       "      <td>Viseven</td>\n",
       "      <td>Buenos Aires| Provincia de Buenos Aires| Argen...</td>\n",
       "      <td>Hace 1 día</td>\n",
       "      <td>134 solicitudes</td>\n",
       "      <td>https://ar.linkedin.com/jobs/view/front-end-de...</td>\n",
       "      <td>Viseven Group is an international IT company s...</td>\n",
       "    </tr>\n",
       "    <tr>\n",
       "      <th>1</th>\n",
       "      <td>Remote Junior Web Developer</td>\n",
       "      <td>Scopic</td>\n",
       "      <td>Buenos Aires y alrededores</td>\n",
       "      <td>Hace 6 días</td>\n",
       "      <td>Más de 200 solicitudes</td>\n",
       "      <td>https://ar.linkedin.com/jobs/view/remote-junio...</td>\n",
       "      <td>Are you on the hunt for exciting new challenge...</td>\n",
       "    </tr>\n",
       "    <tr>\n",
       "      <th>2</th>\n",
       "      <td>Developer Frontend</td>\n",
       "      <td>IOL Inversiones</td>\n",
       "      <td>Buenos Aires| Provincia de Buenos Aires| Argen...</td>\n",
       "      <td>Hace 1 mes</td>\n",
       "      <td>Más de 200 solicitudes</td>\n",
       "      <td>https://ar.linkedin.com/jobs/view/developer-fr...</td>\n",
       "      <td>¡IOLer se busca! En IOL invertironline queremo...</td>\n",
       "    </tr>\n",
       "    <tr>\n",
       "      <th>3</th>\n",
       "      <td>Front-end Developer</td>\n",
       "      <td>Viseven</td>\n",
       "      <td>Buenos Aires| Provincia de Buenos Aires| Argen...</td>\n",
       "      <td>Hace 1 día</td>\n",
       "      <td>134 solicitudes</td>\n",
       "      <td>https://ar.linkedin.com/jobs/view/front-end-de...</td>\n",
       "      <td>Viseven Group is an international IT company s...</td>\n",
       "    </tr>\n",
       "    <tr>\n",
       "      <th>4</th>\n",
       "      <td>Developer Frontend</td>\n",
       "      <td>IOL Inversiones</td>\n",
       "      <td>Buenos Aires| Provincia de Buenos Aires| Argen...</td>\n",
       "      <td>Hace 1 mes</td>\n",
       "      <td>Más de 200 solicitudes</td>\n",
       "      <td>https://ar.linkedin.com/jobs/view/developer-fr...</td>\n",
       "      <td>¡IOLer se busca! En IOL invertironline queremo...</td>\n",
       "    </tr>\n",
       "  </tbody>\n",
       "</table>\n",
       "</div>"
      ],
      "text/plain": [
       "                         title          company  \\\n",
       "0          Front-end Developer          Viseven   \n",
       "1  Remote Junior Web Developer           Scopic   \n",
       "2           Developer Frontend  IOL Inversiones   \n",
       "3          Front-end Developer          Viseven   \n",
       "4           Developer Frontend  IOL Inversiones   \n",
       "\n",
       "                                            location    published  \\\n",
       "0  Buenos Aires| Provincia de Buenos Aires| Argen...   Hace 1 día   \n",
       "1                         Buenos Aires y alrededores  Hace 6 días   \n",
       "2  Buenos Aires| Provincia de Buenos Aires| Argen...   Hace 1 mes   \n",
       "3  Buenos Aires| Provincia de Buenos Aires| Argen...   Hace 1 día   \n",
       "4  Buenos Aires| Provincia de Buenos Aires| Argen...   Hace 1 mes   \n",
       "\n",
       "               applicants                                                url  \\\n",
       "0         134 solicitudes  https://ar.linkedin.com/jobs/view/front-end-de...   \n",
       "1  Más de 200 solicitudes  https://ar.linkedin.com/jobs/view/remote-junio...   \n",
       "2  Más de 200 solicitudes  https://ar.linkedin.com/jobs/view/developer-fr...   \n",
       "3         134 solicitudes  https://ar.linkedin.com/jobs/view/front-end-de...   \n",
       "4  Más de 200 solicitudes  https://ar.linkedin.com/jobs/view/developer-fr...   \n",
       "\n",
       "                                         description  \n",
       "0  Viseven Group is an international IT company s...  \n",
       "1  Are you on the hunt for exciting new challenge...  \n",
       "2  ¡IOLer se busca! En IOL invertironline queremo...  \n",
       "3  Viseven Group is an international IT company s...  \n",
       "4  ¡IOLer se busca! En IOL invertironline queremo...  "
      ]
     },
     "execution_count": 4,
     "metadata": {},
     "output_type": "execute_result"
    }
   ],
   "source": [
    "df = pd.read_csv(\"jobs-webdeveloper.csv\")\n",
    "df.head()"
   ]
  },
  {
   "cell_type": "code",
   "execution_count": 5,
   "metadata": {},
   "outputs": [
    {
     "data": {
      "text/html": [
       "<div>\n",
       "<style scoped>\n",
       "    .dataframe tbody tr th:only-of-type {\n",
       "        vertical-align: middle;\n",
       "    }\n",
       "\n",
       "    .dataframe tbody tr th {\n",
       "        vertical-align: top;\n",
       "    }\n",
       "\n",
       "    .dataframe thead th {\n",
       "        text-align: right;\n",
       "    }\n",
       "</style>\n",
       "<table border=\"1\" class=\"dataframe\">\n",
       "  <thead>\n",
       "    <tr style=\"text-align: right;\">\n",
       "      <th></th>\n",
       "      <th>title</th>\n",
       "      <th>company</th>\n",
       "      <th>location</th>\n",
       "      <th>published</th>\n",
       "      <th>applicants</th>\n",
       "      <th>url</th>\n",
       "      <th>description</th>\n",
       "    </tr>\n",
       "  </thead>\n",
       "  <tbody>\n",
       "    <tr>\n",
       "      <th>0</th>\n",
       "      <td>Front-end Developer</td>\n",
       "      <td>Viseven</td>\n",
       "      <td>Buenos Aires| Provincia de Buenos Aires| Argen...</td>\n",
       "      <td>Hace 1 día</td>\n",
       "      <td>134 solicitudes</td>\n",
       "      <td>https://ar.linkedin.com/jobs/view/front-end-de...</td>\n",
       "      <td>Viseven Group is an international IT company s...</td>\n",
       "    </tr>\n",
       "    <tr>\n",
       "      <th>1</th>\n",
       "      <td>Remote Junior Web Developer</td>\n",
       "      <td>Scopic</td>\n",
       "      <td>Buenos Aires y alrededores</td>\n",
       "      <td>Hace 6 días</td>\n",
       "      <td>Más de 200 solicitudes</td>\n",
       "      <td>https://ar.linkedin.com/jobs/view/remote-junio...</td>\n",
       "      <td>Are you on the hunt for exciting new challenge...</td>\n",
       "    </tr>\n",
       "  </tbody>\n",
       "</table>\n",
       "</div>"
      ],
      "text/plain": [
       "                         title  company  \\\n",
       "0          Front-end Developer  Viseven   \n",
       "1  Remote Junior Web Developer   Scopic   \n",
       "\n",
       "                                            location    published  \\\n",
       "0  Buenos Aires| Provincia de Buenos Aires| Argen...   Hace 1 día   \n",
       "1                         Buenos Aires y alrededores  Hace 6 días   \n",
       "\n",
       "               applicants                                                url  \\\n",
       "0         134 solicitudes  https://ar.linkedin.com/jobs/view/front-end-de...   \n",
       "1  Más de 200 solicitudes  https://ar.linkedin.com/jobs/view/remote-junio...   \n",
       "\n",
       "                                         description  \n",
       "0  Viseven Group is an international IT company s...  \n",
       "1  Are you on the hunt for exciting new challenge...  "
      ]
     },
     "execution_count": 5,
     "metadata": {},
     "output_type": "execute_result"
    }
   ],
   "source": [
    "\n",
    "# desc = df['description']\n",
    "# desc[0]\n",
    "df = df[~df['published'].str.contains('meses', case=False, na=False)]\n",
    "# df = df[df['published'].str.contains('meses', na=False)]\n",
    "df.head(2)"
   ]
  },
  {
   "cell_type": "code",
   "execution_count": 6,
   "metadata": {},
   "outputs": [
    {
     "data": {
      "text/html": [
       "<div>\n",
       "<style scoped>\n",
       "    .dataframe tbody tr th:only-of-type {\n",
       "        vertical-align: middle;\n",
       "    }\n",
       "\n",
       "    .dataframe tbody tr th {\n",
       "        vertical-align: top;\n",
       "    }\n",
       "\n",
       "    .dataframe thead th {\n",
       "        text-align: right;\n",
       "    }\n",
       "</style>\n",
       "<table border=\"1\" class=\"dataframe\">\n",
       "  <thead>\n",
       "    <tr style=\"text-align: right;\">\n",
       "      <th></th>\n",
       "      <th>title</th>\n",
       "      <th>company</th>\n",
       "      <th>location</th>\n",
       "      <th>published</th>\n",
       "      <th>applicants</th>\n",
       "      <th>url</th>\n",
       "      <th>description</th>\n",
       "    </tr>\n",
       "  </thead>\n",
       "  <tbody>\n",
       "    <tr>\n",
       "      <th>0</th>\n",
       "      <td>Front-end Developer</td>\n",
       "      <td>Viseven</td>\n",
       "      <td>Buenos Aires| Provincia de Buenos Aires| Argen...</td>\n",
       "      <td>Hace 1 día</td>\n",
       "      <td>134 solicitudes</td>\n",
       "      <td>https://ar.linkedin.com/jobs/view/front-end-de...</td>\n",
       "      <td>Viseven Group is an international IT company s...</td>\n",
       "    </tr>\n",
       "    <tr>\n",
       "      <th>1</th>\n",
       "      <td>Remote Junior Web Developer</td>\n",
       "      <td>Scopic</td>\n",
       "      <td>Buenos Aires y alrededores</td>\n",
       "      <td>Hace 6 días</td>\n",
       "      <td>Más de 200 solicitudes</td>\n",
       "      <td>https://ar.linkedin.com/jobs/view/remote-junio...</td>\n",
       "      <td>Are you on the hunt for exciting new challenge...</td>\n",
       "    </tr>\n",
       "  </tbody>\n",
       "</table>\n",
       "</div>"
      ],
      "text/plain": [
       "                         title  company  \\\n",
       "0          Front-end Developer  Viseven   \n",
       "1  Remote Junior Web Developer   Scopic   \n",
       "\n",
       "                                            location    published  \\\n",
       "0  Buenos Aires| Provincia de Buenos Aires| Argen...   Hace 1 día   \n",
       "1                         Buenos Aires y alrededores  Hace 6 días   \n",
       "\n",
       "               applicants                                                url  \\\n",
       "0         134 solicitudes  https://ar.linkedin.com/jobs/view/front-end-de...   \n",
       "1  Más de 200 solicitudes  https://ar.linkedin.com/jobs/view/remote-junio...   \n",
       "\n",
       "                                         description  \n",
       "0  Viseven Group is an international IT company s...  \n",
       "1  Are you on the hunt for exciting new challenge...  "
      ]
     },
     "execution_count": 6,
     "metadata": {},
     "output_type": "execute_result"
    }
   ],
   "source": [
    "# df = df[df['published'].str.contains('meses', na=False)]\n",
    "# df.head(2)\n",
    "df.iloc[18]['url']\n",
    "df.head(2)"
   ]
  },
  {
   "cell_type": "code",
   "execution_count": 7,
   "metadata": {},
   "outputs": [],
   "source": [
    "import re"
   ]
  },
  {
   "cell_type": "code",
   "execution_count": 8,
   "metadata": {},
   "outputs": [],
   "source": [
    "# Función para convertir a días\n",
    "# Función para convertir a días\n",
    "def convertir_a_dias(texto):\n",
    "    if not isinstance(texto, str):\n",
    "        return 0\n",
    "    \n",
    "    texto = texto.lower()  # Convertir a minúsculas para manejar mayúsculas y minúsculas\n",
    "    \n",
    "    # Extraer el número usando una expresión regular\n",
    "    numero = int(re.search(r'\\d+', texto).group())\n",
    "    \n",
    "    # Determinar la unidad de tiempo\n",
    "    if \"día\" in texto or \"dia\" in texto or \"day\" in texto:\n",
    "        return numero\n",
    "    elif \"semana\" in texto or \"semanas\" in texto or \"week\" in texto:\n",
    "        return numero * 7\n",
    "    elif \"mes\" in texto or \"month\" in texto:\n",
    "        return numero * 30\n",
    "    else:\n",
    "        return 0  # Si no se reconoce el formato\n",
    "\n",
    "# Aplicar la función a la columna \"published\"\n",
    "# df[\"dias\"] = df[\"published\"].apply(convertir_a_dias)\n",
    "\n",
    "# print(df)"
   ]
  },
  {
   "cell_type": "code",
   "execution_count": 9,
   "metadata": {},
   "outputs": [
    {
     "data": {
      "text/html": [
       "<div>\n",
       "<style scoped>\n",
       "    .dataframe tbody tr th:only-of-type {\n",
       "        vertical-align: middle;\n",
       "    }\n",
       "\n",
       "    .dataframe tbody tr th {\n",
       "        vertical-align: top;\n",
       "    }\n",
       "\n",
       "    .dataframe thead th {\n",
       "        text-align: right;\n",
       "    }\n",
       "</style>\n",
       "<table border=\"1\" class=\"dataframe\">\n",
       "  <thead>\n",
       "    <tr style=\"text-align: right;\">\n",
       "      <th></th>\n",
       "      <th>title</th>\n",
       "      <th>company</th>\n",
       "      <th>location</th>\n",
       "      <th>published</th>\n",
       "      <th>applicants</th>\n",
       "      <th>url</th>\n",
       "      <th>description</th>\n",
       "    </tr>\n",
       "  </thead>\n",
       "  <tbody>\n",
       "    <tr>\n",
       "      <th>0</th>\n",
       "      <td>Front-end Developer</td>\n",
       "      <td>Viseven</td>\n",
       "      <td>Buenos Aires| Provincia de Buenos Aires| Argen...</td>\n",
       "      <td>Hace 1 día</td>\n",
       "      <td>134 solicitudes</td>\n",
       "      <td>https://ar.linkedin.com/jobs/view/front-end-de...</td>\n",
       "      <td>Viseven Group is an international IT company s...</td>\n",
       "    </tr>\n",
       "  </tbody>\n",
       "</table>\n",
       "</div>"
      ],
      "text/plain": [
       "                 title  company  \\\n",
       "0  Front-end Developer  Viseven   \n",
       "\n",
       "                                            location   published  \\\n",
       "0  Buenos Aires| Provincia de Buenos Aires| Argen...  Hace 1 día   \n",
       "\n",
       "        applicants                                                url  \\\n",
       "0  134 solicitudes  https://ar.linkedin.com/jobs/view/front-end-de...   \n",
       "\n",
       "                                         description  \n",
       "0  Viseven Group is an international IT company s...  "
      ]
     },
     "execution_count": 9,
     "metadata": {},
     "output_type": "execute_result"
    }
   ],
   "source": [
    "# df = pd.read_csv(\"jobs-webdeveloper.csv\")\n",
    "df.head(1)"
   ]
  },
  {
   "cell_type": "code",
   "execution_count": 10,
   "metadata": {},
   "outputs": [],
   "source": [
    "df[\"published\"] = df[\"published\"].apply(convertir_a_dias)"
   ]
  },
  {
   "cell_type": "code",
   "execution_count": 11,
   "metadata": {},
   "outputs": [],
   "source": [
    "# Función para convertir a días\n",
    "def extract_num(texto):\n",
    "    if not isinstance(texto, str):\n",
    "        return 0\n",
    "    # Extraer el número usando una expresión regular\n",
    "    return int(re.search(r'\\d+', texto).group())"
   ]
  },
  {
   "cell_type": "code",
   "execution_count": 12,
   "metadata": {},
   "outputs": [],
   "source": [
    "df[\"applicants\"] = df[\"applicants\"].apply(extract_num)"
   ]
  },
  {
   "cell_type": "code",
   "execution_count": 13,
   "metadata": {},
   "outputs": [
    {
     "name": "stdout",
     "output_type": "stream",
     "text": [
      "0\n"
     ]
    }
   ],
   "source": [
    "df.sort_values(by=['applicants'], ascending=True)\n",
    "print('0')\n",
    "# df.sort_values(by='published', ascending=False)\n",
    "# df.head(20)"
   ]
  },
  {
   "cell_type": "code",
   "execution_count": null,
   "metadata": {},
   "outputs": [],
   "source": [
    "\n",
    "def fix_url(url):\n",
    "    # Verificar si la URL contiene 'linkedin.com/jobs/view/'\n",
    "    urlMatch = \"linkedin.com/jobs/view/\"\n",
    "    # Expresión regular para extraer el ID\n",
    "    match = re.search(r'/view/.*?-(\\d+)(\\?|$)', url)\n",
    "    # Verificar si se encontró un match\n",
    "    if match:\n",
    "        id = match.group(1)  # Extraer el ID\n",
    "        return f'{urlMatch}{id}'"
   ]
  },
  {
   "cell_type": "code",
   "execution_count": 15,
   "metadata": {},
   "outputs": [],
   "source": [
    "df[\"url\"] = df[\"url\"].apply(fix_url)"
   ]
  },
  {
   "cell_type": "code",
   "execution_count": null,
   "metadata": {},
   "outputs": [
    {
     "name": "stdout",
     "output_type": "stream",
     "text": [
      "https://www.google.com/search?q=site%3Alinkedin.com%2Fjobs+excel+power+bi+python+%22remote%22+English+-%22Argentina%22+-%22Brazil%22+-%22Mexico%22+-%22Colombia%22+-%22Chile%22+-%22Peru%22+-%22Spanish%22+-%22Portuguese%22\n"
     ]
    }
   ],
   "source": [
    "import urllib.parse\n",
    "\n",
    "# query = 'web developer'\n",
    "query = 'excel power bi python'\n",
    "sub_search = '\"remote\" English -\"Argentina\" -\"Brazil\" -\"Mexico\" -\"Colombia\" -\"Chile\" -\"Peru\" -\"Spanish\" -\"Portuguese\"'\n",
    "base_url = \"https://www.google.com/search\"\n",
    "params = {\n",
    "    \"q\": f\"site:linkedin.com/jobs {query} {sub_search}\"\n",
    "}\n",
    "\n",
    "search_url = base_url + \"?\" + urllib.parse.urlencode(params)\n",
    "print(search_url)"
   ]
  },
  {
   "cell_type": "markdown",
   "metadata": {},
   "source": []
  },
  {
   "cell_type": "code",
   "execution_count": 17,
   "metadata": {},
   "outputs": [
    {
     "data": {
      "text/plain": [
       "'linkedin.com/jobs/view/4145254091'"
      ]
     },
     "execution_count": 17,
     "metadata": {},
     "output_type": "execute_result"
    }
   ],
   "source": [
    "df.iloc[1]['url']"
   ]
  }
 ],
 "metadata": {
  "kernelspec": {
   "display_name": "scrapping",
   "language": "python",
   "name": "python3"
  },
  "language_info": {
   "codemirror_mode": {
    "name": "ipython",
    "version": 3
   },
   "file_extension": ".py",
   "mimetype": "text/x-python",
   "name": "python",
   "nbconvert_exporter": "python",
   "pygments_lexer": "ipython3",
   "version": "3.9.21"
  }
 },
 "nbformat": 4,
 "nbformat_minor": 2
}
